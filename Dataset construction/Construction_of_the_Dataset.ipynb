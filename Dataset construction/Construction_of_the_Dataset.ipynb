{
  "cells": [
    {
      "cell_type": "markdown",
      "id": "20be4239-aa72-46f0-9e8d-59fcb8197f7c",
      "metadata": {
        "id": "20be4239-aa72-46f0-9e8d-59fcb8197f7c"
      },
      "source": [
        "# Normalization"
      ]
    },
    {
      "cell_type": "code",
      "execution_count": null,
      "id": "cf03f64d-1a13-4d9a-b36d-9acc4f151db5",
      "metadata": {
        "id": "cf03f64d-1a13-4d9a-b36d-9acc4f151db5",
        "colab": {
          "base_uri": "https://localhost:8080/"
        },
        "outputId": "c0c7656e-8c6d-4b6f-d1e6-fc68619ef4aa"
      },
      "outputs": [
        {
          "output_type": "stream",
          "name": "stdout",
          "text": [
            "Looking in indexes: https://pypi.org/simple, https://us-python.pkg.dev/colab-wheels/public/simple/\n",
            "Collecting rpy2==3.5.1\n",
            "  Downloading rpy2-3.5.1.tar.gz (201 kB)\n",
            "\u001b[K     |████████████████████████████████| 201 kB 4.7 MB/s \n",
            "\u001b[?25hRequirement already satisfied: cffi>=1.10.0 in /usr/local/lib/python3.7/dist-packages (from rpy2==3.5.1) (1.15.1)\n",
            "Requirement already satisfied: jinja2 in /usr/local/lib/python3.7/dist-packages (from rpy2==3.5.1) (2.11.3)\n",
            "Requirement already satisfied: pytz in /usr/local/lib/python3.7/dist-packages (from rpy2==3.5.1) (2022.6)\n",
            "Requirement already satisfied: tzlocal in /usr/local/lib/python3.7/dist-packages (from rpy2==3.5.1) (1.5.1)\n",
            "Requirement already satisfied: typing-extensions in /usr/local/lib/python3.7/dist-packages (from rpy2==3.5.1) (4.1.1)\n",
            "Requirement already satisfied: pycparser in /usr/local/lib/python3.7/dist-packages (from cffi>=1.10.0->rpy2==3.5.1) (2.21)\n",
            "Requirement already satisfied: MarkupSafe>=0.23 in /usr/local/lib/python3.7/dist-packages (from jinja2->rpy2==3.5.1) (2.0.1)\n",
            "Building wheels for collected packages: rpy2\n",
            "  Building wheel for rpy2 (setup.py) ... \u001b[?25l\u001b[?25hdone\n",
            "  Created wheel for rpy2: filename=rpy2-3.5.1-cp37-cp37m-linux_x86_64.whl size=310591 sha256=b2eda22383bf562b5fd0fc69c283053420d1718b39fcb783dd5dc61f5e2bee51\n",
            "  Stored in directory: /root/.cache/pip/wheels/65/df/9e/39aa22a3f47ec58751b5bf6907036fbc131d85b6d7cbd3b3fe\n",
            "Successfully built rpy2\n",
            "Installing collected packages: rpy2\n",
            "  Attempting uninstall: rpy2\n",
            "    Found existing installation: rpy2 3.5.5\n",
            "    Uninstalling rpy2-3.5.5:\n",
            "      Successfully uninstalled rpy2-3.5.5\n",
            "Successfully installed rpy2-3.5.1\n",
            "Mounted at /content/drive\n"
          ]
        }
      ],
      "source": [
        "#load packages\n",
        "import pandas as pd\n",
        "import numpy as np\n",
        "#from my_functions import *\n",
        "#import pyRserve\n",
        "import os.path\n",
        "import gc\n",
        "from sklearn.experimental import enable_iterative_imputer\n",
        "from sklearn.impute import KNNImputer\n",
        "from sklearn.impute import SimpleImputer\n",
        "from sklearn.impute import IterativeImputer\n",
        "from sklearn.linear_model import BayesianRidge\n",
        "from sklearn.ensemble import ExtraTreesRegressor\n",
        "from sklearn.preprocessing import QuantileTransformer\n",
        "from sklearn.model_selection import train_test_split\n",
        "from IPython.display import clear_output\n",
        "import random\n",
        "!pip install rpy2==3.5.1\n",
        "%load_ext rpy2.ipython\n",
        "from google.colab import drive\n",
        "drive.mount('/content/drive')"
      ]
    },
    {
      "cell_type": "code",
      "source": [
        "w%%R\n",
        "if (!require(\"BiocManager\", quietly = TRUE))\n",
        "    install.packages(\"BiocManager\")\n",
        "BiocManager::install(c(\"impute\"))\n",
        "BiocManager::install(c(\"WGCNA\"))\n",
        "packages = c(\"RPMM\", \"sqldf\", \"WGCNA\")\n",
        "install.packages(packages)\n",
        "BiocManager::install(\"GO.db\")\n",
        "BiocManager::install(\"preprocessCore\")\n",
        "BiocManager::install(\"GEOquery\")\n",
        "library(GEOquery)\n",
        "install.packages(\"stringr\")\n",
        "install.packages(\"tidyverse\")\n",
        "lapply(packages, require, character.only = TRUE)\n",
        "packages = c(\"caret\", \"glmnet\", \"MASS\")\n",
        "install.packages(packages)\n",
        "lapply(packages, require, character.only = TRUE)\n",
        "library(glmnet)\n",
        "install.packages(\"zoo\")                                    # Install & load zoo package\n",
        "library(\"zoo\")\n"
      ],
      "metadata": {
        "id": "JEYM1rWg5jE9"
      },
      "id": "JEYM1rWg5jE9",
      "execution_count": null,
      "outputs": []
    },
    {
      "cell_type": "code",
      "source": [
        "%%R\n",
        "normalize=function(data, n=\"/content/drive/MyDrive/Altum_Age_Dataset/normalization.txt\", s=\"/content/drive/MyDrive/Altum_Age_Dataset/stepwise.txt\", mns=\"/content/drive/MyDrive/Altum_Age_Dataset/21.csv\", output=\"/content/drive/MyDrive/Altum_Age_Dataset/normalized_data.csv\",altum=FALSE) \n",
        "{\n",
        "\n",
        "  if(altum){\n",
        "    temp <- data\n",
        "    d1 = dim(temp)[[1]]\n",
        "    d2 = dim(temp)[[2]]\n",
        "    samples = temp[1:d1, 1:1]\n",
        "    values = temp[1:d1, 5:d2]\n",
        "    cpgs = colnames(values)\n",
        "    mtrx = data.matrix(values)\n",
        "    mtrx = t(mtrx)\n",
        "    new_df = data.frame(mtrx)\n",
        "    new_df = cbind(ID_REF=cpgs, new_df)\n",
        "    colnames(new_df) <- unlist(append(c(\"ID_REF\"), samples))\n",
        "    rownames(new_df) <- NULL\n",
        "    data <- new_df\n",
        "  }\n",
        "  \n",
        "\n",
        "  \n",
        "  source(n)\n",
        "  trafo= function(x,adult.age=20) { x=(x+1)/(1+adult.age); y=ifelse(x<=1, log( x),x-1);y }\n",
        "  anti.trafo= function(x,adult.age=20) { ifelse(x<0, (1+adult.age)*exp(x)-1, (1+adult.age)*x+adult.age) }\n",
        "\n",
        "  colnames(data)[1] <- \"ProbeID\"\n",
        "  d1 = dim(data)[[1]]\n",
        "  d2 = dim(data)[[2]]\n",
        "  m=data.frame(Means=rowMeans(data[1:d1, 2:d2]))\n",
        "  locations = unlist(data$ProbeID)\n",
        "  probe=read.csv(mns)\n",
        "  probe = probe[probe$Name %in% locations, ]\n",
        "  probeAnnotation21kdatMethUsed<<-probe\n",
        "  \n",
        "  dat0=data\n",
        "  dat0=na.aggregate(dat0[1:d1,2:d2])\n",
        "  dat0=cbind(ProbeID=locations, dat0)\n",
        "  colnames(dat0)[1] <- \"ProbeID\"\n",
        "  nSamples<<-dim(dat0)[[2]]-1\n",
        "  nProbes<<- dim(dat0)[[1]]\n",
        "  \n",
        "  \n",
        "  dat1 <<- dat0\n",
        "  \n",
        "  set.seed(1)\n",
        "  normalizeData<<-TRUE\n",
        "  source(s)\n",
        "\n",
        "  if(altum){\n",
        "    input = datMethUsedNormalized\n",
        "    d1 = dim(input)[[1]]\n",
        "    d2 = dim(input)[[2]]\n",
        "    ds_age_gender = temp[1:d1, 1:4]\n",
        "    input = cbind(X=temp[1:d1, 1], dataset=temp[1:d1, 2], age=temp[1:d1, 3], gender=temp[1:d1, 4],  input)\n",
        "    datMethUsedNormalized = input\n",
        "  }\n",
        "  \n",
        "  write.table(datMethUsedNormalized,output, row.names=F, sep=\",\" )\n",
        "}"
      ],
      "metadata": {
        "id": "bvlh9__Fo8eY"
      },
      "id": "bvlh9__Fo8eY",
      "execution_count": null,
      "outputs": []
    },
    {
      "cell_type": "code",
      "execution_count": null,
      "id": "f9f1cbfd-b57c-488a-a4d1-b2071752cdc2",
      "metadata": {
        "id": "f9f1cbfd-b57c-488a-a4d1-b2071752cdc2"
      },
      "outputs": [],
      "source": [
        "geo_data_27k = [\n",
        "    'GSE27317', \n",
        "    'GSE41037', \n",
        "    'GSE38873', \n",
        "    'GSE15745', \n",
        "    'GSE32393', \n",
        "    'GSE25892', \n",
        "    'GSE20242', \n",
        "    'GSE22595', \n",
        "    'GSE37988', \n",
        "    'GSE17448', \n",
        "    'GSE36642', \n",
        "    'GSE26126', \n",
        "    'GSE34035', \n",
        "    'GSE28746',\n",
        "    'GSE20236',\n",
        "    'GSE19711',\n",
        "    'GSE37008',\n",
        "    'GSE36812',\n",
        "    'GSE34257',\n",
        "    'GSE38608',\n",
        "    'GSE38291',\n",
        "    'GSE36166',\n",
        "    'GSE63384',\n",
        "    'GSE59274',\n",
        "    'GSE57285',\n",
        "    'GSE56606',\n",
        "    'GSE49908',\n",
        "    'GSE49907',\n",
        "    'GSE49905',\n",
        "    'GSE49904'\n",
        "]\n",
        "\n",
        "geo_data_450k = [\n",
        "    'GSE90124', \n",
        "    'GSE115797',\n",
        "    'GSE99624', \n",
        "    'GSE108213',\n",
        "    'GSE92767', \n",
        "    'GSE69176',\n",
        "    'GSE40360',\n",
        "    'GSE59157', \n",
        "    'GSE42861',\n",
        "    'GSE77241',\n",
        "    'GSE148000'\n",
        "]      \n",
        "\n",
        "array_express_27k = [\n",
        "    'E-GEOD-43256',\n",
        "    'E-GEOD-64940',\n",
        "    'E-MTAB-2344',\n",
        "    'E-GEOD-62867',\n",
        "    'E-GEOD-44763',\n",
        "    'E-GEOD-48988',\n",
        "    'E-GEOD-58119',\n",
        "    'E-GEOD-58045',\n",
        "    'E-GEOD-57484',\n",
        "    'E-GEOD-54211',\n",
        "    'E-GEOD-56342',\n",
        "    'E-GEOD-27044',\n",
        "    'E-GEOD-36194',\n",
        "    'E-GEOD-21232',\n",
        "    'E-GEOD-32867',\n",
        "    'E-GEOD-30759',\n",
        "    'E-GEOD-30758',\n",
        "    'E-GEOD-32396',\n",
        "    'E-GEOD-31979',\n",
        "    'E-MTAB-625',\n",
        "    'E-MTAB-487'\n",
        "]\n",
        "\n",
        "array_express_450k = [\n",
        "    'E-MTAB-2372',\n",
        "    'E-GEOD-73832',\n",
        "    'E-GEOD-71678',\n",
        "    'E-GEOD-71245',\n",
        "    'E-GEOD-83334',\n",
        "    'E-GEOD-75248',\n",
        "    'E-GEOD-77955',\n",
        "    'E-GEOD-67705',\n",
        "    'E-GEOD-77445',\n",
        "    'E-GEOD-79056',\n",
        "    'E-GEOD-72556',\n",
        "    'E-GEOD-52068',\n",
        "    'E-GEOD-74738',\n",
        "    'E-GEOD-76105',\n",
        "    'E-GEOD-65638',\n",
        "    'E-GEOD-71955',\n",
        "    'E-GEOD-63106',\n",
        "    'E-GEOD-73377',\n",
        "    'E-GEOD-56515',\n",
        "    'E-GEOD-73103',\n",
        "    'E-GEOD-67024',\n",
        "    'E-GEOD-72338',\n",
        "    'E-GEOD-59457',\n",
        "    'E-GEOD-64511',\n",
        "    'E-GEOD-64495',\n",
        "    'E-GEOD-59509',\n",
        "    'E-GEOD-67444',\n",
        "    'E-GEOD-62219',\n",
        "    'E-GEOD-51954',\n",
        "    'E-GEOD-52588',\n",
        "    'E-GEOD-36054',\n",
        "    'E-GEOD-50660',\n",
        "    'E-GEOD-61259',\n",
        "    'E-GEOD-61258',\n",
        "    'E-GEOD-61257',\n",
        "    'E-GEOD-61454',\n",
        "    'E-GEOD-61380',\n",
        "    'E-GEOD-61107',\n",
        "    'E-GEOD-54690',\n",
        "    'E-GEOD-49149',\n",
        "    'E-GEOD-55438',\n",
        "    'E-GEOD-53740',\n",
        "    'E-GEOD-57767',\n",
        "    'E-GEOD-49064',\n",
        "    'E-GEOD-50759',\n",
        "    'E-GEOD-56553',\n",
        "    'E-GEOD-54399',\n",
        "    'E-GEOD-53162',\n",
        "    'E-GEOD-53128', \n",
        "    'E-GEOD-50498', \n",
        "    'E-GEOD-47513',\n",
        "    'E-GEOD-49393',\n",
        "    'E-GEOD-39004',\n",
        "    'E-GEOD-51388',\n",
        "    'E-GEOD-51032', \n",
        "    'E-GEOD-48325',\n",
        "    'E-GEOD-44712',\n",
        "    'E-GEOD-45461',\n",
        "    'E-GEOD-40279',\n",
        "    'E-GEOD-41169',\n",
        "    'E-GEOD-32149',\n",
        "    'E-GEOD-41826',\n",
        "    'E-GEOD-42700',\n",
        "    'E-GEOD-32146',\n",
        "    'E-GEOD-30870',\n",
        "    'E-GEOD-34639',\n",
        "    'E-GEOD-63347', \n",
        "    'E-GEOD-59592'\n",
        "]\n",
        "\n",
        "tcga_all = [\n",
        "    'TGCA_LUSC',\n",
        "    'TGCA_THCA',\n",
        "    'TGCA_HNSC',\n",
        "    'TGCA_KIRC',\n",
        "    'TGCA_KIRP',\n",
        "    'TGCA_LUAD',\n",
        "    'TGCA_PRAD',\n",
        "    'TGCA_STAD',\n",
        "    'TGCA_COAD',\n",
        "    'TGCA_LIHC',\n",
        "    'TGCA_UCEC',\n",
        "    'TGCA_BRCA'\n",
        "]\n",
        "\n",
        "cancer_data = [\n",
        "    'GSE32393',\n",
        "    'GSE37988',\n",
        "    'GSE26126',\n",
        "    'GSE63384',\n",
        "    'GSE59157',\n",
        "    'E-GEOD-32867',\n",
        "    'E-GEOD-30759',\n",
        "    'E-GEOD-31979',\n",
        "    'E-GEOD-77955',\n",
        "    'E-GEOD-52068',\n",
        "    'E-GEOD-49149',\n",
        "    'E-GEOD-39004'\n",
        "]\n",
        "\n",
        "cancer_comparison = [\n",
        "    'GSE53051',\n",
        "]\n",
        "\n",
        "reliability = [\n",
        "    'GSE55763',\n",
        "]\n",
        "\n",
        "rejuvenation = [\n",
        "    'GSE142439',\n",
        "    'GSE116754',\n",
        "    'GSE65214', \n",
        "    'GSE44430',\n",
        "    'GSE45727',\n",
        "    'GSE30653',\n",
        "    'GSE37066',\n",
        "    'GSE30456',\n",
        "]\n",
        "\n",
        "senescence_analysis = [\n",
        "    'GSE91069',\n",
        "    'GSE100249'\n",
        "]"
      ]
    },
    {
      "cell_type": "code",
      "execution_count": null,
      "id": "1cc041a1-0258-4e72-a271-d441cffcfa04",
      "metadata": {
        "id": "1cc041a1-0258-4e72-a271-d441cffcfa04"
      },
      "outputs": [],
      "source": [
        "data_27k = np.concatenate([np.array(geo_data_27k), np.array(array_express_27k)])\n",
        "data_450k = np.concatenate([np.array(geo_data_450k), np.array(array_express_450k)])\n",
        "tcga_all = np.array(tcga_all)\n",
        "all_data = np.concatenate([data_27k, data_450k, tcga_all])"
      ]
    },
    {
      "cell_type": "code",
      "execution_count": null,
      "id": "987c7040-cf52-4d15-9edd-8eba18f8a22b",
      "metadata": {
        "id": "987c7040-cf52-4d15-9edd-8eba18f8a22b"
      },
      "outputs": [],
      "source": [
        "#load gold standard values from Horvath's\n",
        "gs = pd.read_csv('/content/drive/MyDrive/Altum_Age_Dataset/gold.csv')\n",
        "gs_cpgs = np.array(gs.Name)\n",
        "gs_values = np.array(gs.overallMeanByCpGacross50data)"
      ]
    },
    {
      "cell_type": "code",
      "source": [
        "sizes = {}\n",
        "for d in all_data:\n",
        "  try:\n",
        "    size = os.path.getsize('/content/drive/MyDrive/AltumAge Dataset/Organized Data/' + d + '.pkl')\n",
        "    sizes[d]=size\n",
        "  except Exception as _:\n",
        "    continue\n",
        "sorted_datasets = sorted(list(sizes.keys()), key=lambda k: sizes[k], reverse=False)"
      ],
      "metadata": {
        "id": "TsoYG0EUKFXx"
      },
      "id": "TsoYG0EUKFXx",
      "execution_count": null,
      "outputs": []
    },
    {
      "cell_type": "code",
      "source": [
        "print(sorted_datasets)\n",
        "print([sizes[k] for k in sorted_datasets])"
      ],
      "metadata": {
        "colab": {
          "base_uri": "https://localhost:8080/"
        },
        "id": "kQk33ddmLPCc",
        "outputId": "1c7dea4f-0c14-4212-8f0d-00defe74f76a"
      },
      "id": "kQk33ddmLPCc",
      "execution_count": null,
      "outputs": [
        {
          "output_type": "stream",
          "name": "stdout",
          "text": [
            "['E-GEOD-43256', 'E-GEOD-21232', 'GSE22595', 'E-GEOD-30759', 'E-GEOD-32396', 'E-GEOD-31979', 'GSE17448', 'E-GEOD-62867', 'E-GEOD-54211', 'GSE38291', 'E-GEOD-57484', 'TGCA_STAD', 'GSE32393', 'TGCA_UCEC', 'E-MTAB-2344', 'TGCA_LIHC', 'GSE63384', 'GSE38608', 'E-GEOD-56342', 'GSE57285', 'TGCA_HNSC', 'TGCA_KIRP', 'TGCA_PRAD', 'GSE36166', 'E-GEOD-44763', 'TGCA_LUAD', 'GSE36812', 'TGCA_THCA', 'GSE59274', 'GSE20242', 'GSE49908', 'TGCA_LUSC', 'E-MTAB-625', 'GSE37988', 'E-GEOD-32867', 'E-MTAB-487', 'TGCA_COAD', 'GSE26126', 'GSE49904', 'GSE49905', 'GSE49907', 'GSE34257', 'GSE28746', 'TGCA_BRCA', 'GSE20236', 'GSE56606', 'GSE37008', 'GSE25892', 'GSE36642', 'E-GEOD-30758', 'GSE38873', 'GSE27317', 'E-GEOD-58045', 'E-GEOD-48988', 'GSE34035', 'E-GEOD-64940', 'E-GEOD-39004', 'E-GEOD-47513', 'E-GEOD-58119', 'E-GEOD-77955', 'TGCA_KIRC', 'E-GEOD-65638', 'E-GEOD-48325', 'E-GEOD-54690', 'E-GEOD-49064', 'E-GEOD-53162', 'E-GEOD-45461', 'E-GEOD-74738', 'E-GEOD-56553', 'E-GEOD-27044', 'GSE15745', 'E-GEOD-49149', 'GSE115797', 'E-GEOD-32146', 'E-GEOD-52068', 'E-GEOD-71245', 'E-GEOD-49393', 'E-GEOD-61259', 'GSE19711', 'E-GEOD-67024', 'E-GEOD-56515', 'E-GEOD-73832', 'E-GEOD-83334', 'E-GEOD-61380', 'E-GEOD-59457', 'E-GEOD-61257', 'E-GEOD-57767', 'E-GEOD-76105', 'GSE59157', 'E-GEOD-42700', 'E-GEOD-73377', 'E-GEOD-44712', 'E-GEOD-79056', 'E-GEOD-72338', 'E-GEOD-59509', 'E-GEOD-67444', 'E-GEOD-51954', 'GSE41037', 'E-GEOD-36194', 'E-GEOD-30870', 'E-GEOD-53128', 'E-GEOD-67705', 'E-GEOD-51388', 'E-GEOD-50759', 'E-GEOD-63106', 'E-GEOD-34639', 'GSE40360', 'E-GEOD-32149', 'E-MTAB-2372', 'E-GEOD-55438', 'E-GEOD-61107', 'GSE99624', 'E-GEOD-54399', 'E-GEOD-50498', 'E-GEOD-71955', 'GSE92767', 'E-GEOD-63347', 'E-GEOD-52588', 'E-GEOD-62219', 'E-GEOD-77445', 'E-GEOD-61258', 'GSE108213', 'E-GEOD-72556', 'E-GEOD-41169', 'E-GEOD-64495', 'E-GEOD-59592', 'E-GEOD-36054', 'E-GEOD-41826', 'GSE69176', 'E-GEOD-53740', 'E-GEOD-61454', 'E-GEOD-75248', 'E-GEOD-71678', 'E-GEOD-73103', 'GSE90124', 'E-GEOD-64511', 'E-GEOD-50660', 'E-GEOD-51032', 'E-GEOD-40279', 'GSE42861']\n",
            "[2763357, 2924057, 3806674, 4027327, 4027327, 4027327, 4027331, 4689307, 5275871, 5571900, 5571927, 5704340, 5792555, 5856367, 6013139, 8421021, 8440437, 8661057, 9102406, 9985023, 10089876, 10089876, 10089877, 10426289, 10829823, 10852572, 11088355, 11233928, 11308952, 11750212, 11970918, 12182515, 12209267, 13294790, 13736102, 14687691, 14856761, 16163293, 16384017, 17928602, 19031877, 19252448, 19252449, 19876447, 20438301, 20576462, 22562258, 24767900, 27857954, 34256925, 37567195, 37787384, 38670177, 39994107, 44186350, 48377242, 51486495, 59255799, 62942230, 67025092, 68436594, 74794387, 82563754, 90320954, 90320954, 94205080, 94217649, 96408555, 99566191, 99791166, 102765102, 103857684, 105857458, 105871538, 105871562, 105871563, 109756209, 113640856, 119870678, 125294798, 128235203, 129162223, 129162223, 129724512, 133064091, 136948738, 136948799, 137463413, 148582854, 148583993, 148602749, 149031542, 151938414, 152487326, 152487326, 154317637, 156351112, 159589121, 160030725, 164141309, 179679856, 183540001, 183592456, 189163401, 189429557, 189506554, 189880102, 191333750, 192026544, 192919767, 195218443, 199103086, 199103090, 199103091, 203663146, 222410969, 230180266, 237949560, 245718855, 272446848, 319527147, 334461124, 373912205, 381681499, 424355875, 444484824, 533182598, 566038829, 588319327, 762377017, 870468330, 910546275, 953865704, 1139578492, 1172305510, 1453844074, 1719544960, 2378390062, 2494815683, 2689161818]\n"
          ]
        }
      ]
    },
    {
      "cell_type": "code",
      "source": [
        "print(sizes[\"E-GEOD-77955\"]/1024/1024)\n",
        "i=sorted_datasets.index(\"E-GEOD-77955\")\n",
        "print(f\"{i} / {len(sorted_datasets)}\")"
      ],
      "metadata": {
        "colab": {
          "base_uri": "https://localhost:8080/"
        },
        "id": "-aYqmG9fzqpA",
        "outputId": "49cab55d-608e-41e8-932e-2e0ac15e1232"
      },
      "id": "-aYqmG9fzqpA",
      "execution_count": null,
      "outputs": [
        {
          "output_type": "stream",
          "name": "stdout",
          "text": [
            "63.920108795166016\n",
            "59 / 140\n"
          ]
        }
      ]
    },
    {
      "cell_type": "code",
      "source": [
        "!pip3 install pickle5\n",
        "import pickle5 as pickle"
      ],
      "metadata": {
        "colab": {
          "base_uri": "https://localhost:8080/"
        },
        "id": "b9jyhU6pL2bt",
        "outputId": "c1e9e029-2f08-4bec-88e4-bbef1989098d"
      },
      "id": "b9jyhU6pL2bt",
      "execution_count": null,
      "outputs": [
        {
          "output_type": "stream",
          "name": "stdout",
          "text": [
            "Looking in indexes: https://pypi.org/simple, https://us-python.pkg.dev/colab-wheels/public/simple/\n",
            "Collecting pickle5\n",
            "  Downloading pickle5-0.0.12-cp37-cp37m-manylinux_2_5_x86_64.manylinux1_x86_64.whl (256 kB)\n",
            "\u001b[K     |████████████████████████████████| 256 kB 5.0 MB/s \n",
            "\u001b[?25hInstalling collected packages: pickle5\n",
            "Successfully installed pickle5-0.0.12\n"
          ]
        }
      ]
    },
    {
      "cell_type": "code",
      "source": [
        "#normalize BMIQ\n",
        "failed_datasets = []\n",
        "count = 0\n",
        "data = all_data\n",
        "dfs = []\n",
        "for dataset in sorted_datasets[0:2]:\n",
        "  print(dataset)\n",
        "  with open('/content/drive/MyDrive/Altum_Age_Dataset/data_norm_pkl/' + dataset + '.pkl', \"rb\") as fh:\n",
        "    df = pickle.load(fh)\n",
        "    dfs.append(df)"
      ],
      "metadata": {
        "colab": {
          "base_uri": "https://localhost:8080/"
        },
        "id": "hYNgIiqf132E",
        "outputId": "6f2401a5-c413-4bcf-b6f5-727af22a4a55"
      },
      "id": "hYNgIiqf132E",
      "execution_count": null,
      "outputs": [
        {
          "output_type": "stream",
          "name": "stdout",
          "text": [
            "E-GEOD-43256\n",
            "E-GEOD-21232\n"
          ]
        }
      ]
    },
    {
      "cell_type": "code",
      "source": [
        "age = None\n",
        "gender= None\n",
        "df = None\n",
        "i = 0\n",
        "for dataset in sorted_datasets[56:58]:\n",
        "  i+=1\n",
        "  print(i)\n",
        "  if df is not None:\n",
        "    print(f\"Shape of the accumulated df: {df.shape}\")\n",
        "  with open('/content/drive/MyDrive/Altum_Age_Dataset/data_norm_pkl/' + dataset + '.pkl', \"rb\") as fh:\n",
        "    new_df = pickle.load(fh)\n",
        "  print(f\"Shape of the new df: {new_df.shape}\")\n",
        "  if age is None:\n",
        "    age = new_df[\"age\"]\n",
        "    print(age)\n",
        "    gender = new_df[\"gender\"]\n",
        "    df = new_df\n",
        "    continue\n",
        "\n",
        "  age = age.append(new_df[\"age\"])\n",
        "  gender = gender.append(new_df[\"gender\"])\n",
        "  df = df.append(new_df)\n",
        "\n",
        "# df.to_pickle('/content/drive/MyDrive/Altum_Age_Dataset/concatenated_dataframes.pkl')\n",
        "\n",
        "\n",
        "  "
      ],
      "metadata": {
        "colab": {
          "base_uri": "https://localhost:8080/"
        },
        "id": "e2KzOG-i2Qzu",
        "outputId": "e61c9dd8-9f5e-42da-f4d0-f0adff6cfe11"
      },
      "id": "e2KzOG-i2Qzu",
      "execution_count": null,
      "outputs": [
        {
          "output_type": "stream",
          "name": "stdout",
          "text": [
            "1\n",
            "Shape of the new df: (10, 485581)\n",
            "0    51\n",
            "1    93\n",
            "2    43\n",
            "3    73\n",
            "4    45\n",
            "5    37\n",
            "6    55\n",
            "7    44\n",
            "8    30\n",
            "9    39\n",
            "Name: age, dtype: int64\n",
            "2\n",
            "Shape of the accumulated df: (10, 485581)\n",
            "Shape of the new df: (12, 485581)\n"
          ]
        }
      ]
    },
    {
      "cell_type": "code",
      "source": [
        "df.to_pickle('/content/drive/MyDrive/Altum_Age_Dataset/56concatenated_dataframes.pkl')"
      ],
      "metadata": {
        "id": "OS-UdOGQ6Ljp"
      },
      "id": "OS-UdOGQ6Ljp",
      "execution_count": null,
      "outputs": []
    },
    {
      "cell_type": "code",
      "source": [
        "small_df = pd.read_pickle('/content/drive/MyDrive/Altum_Age_Dataset/56concatenated_dataframes.pkl')"
      ],
      "metadata": {
        "id": "LjSiYVhc74XW"
      },
      "id": "LjSiYVhc74XW",
      "execution_count": null,
      "outputs": []
    },
    {
      "cell_type": "code",
      "source": [
        "c1 = small_df.columns\n",
        "c2 = df.columns\n",
        "c3 = [column for column in c2 if column in c1]"
      ],
      "metadata": {
        "id": "LYa_pdBh9cXs"
      },
      "id": "LYa_pdBh9cXs",
      "execution_count": null,
      "outputs": []
    },
    {
      "cell_type": "code",
      "source": [
        "filtered_df = df[c3]"
      ],
      "metadata": {
        "id": "ky-i271V96rP"
      },
      "id": "ky-i271V96rP",
      "execution_count": null,
      "outputs": []
    },
    {
      "cell_type": "code",
      "source": [
        "filtered_df.to_pickle('/content/drive/MyDrive/Altum_Age_Dataset/filtered.pkl')"
      ],
      "metadata": {
        "id": "DbW-uNiL_HhO"
      },
      "id": "DbW-uNiL_HhO",
      "execution_count": null,
      "outputs": []
    },
    {
      "cell_type": "code",
      "source": [
        "small_df = small_df.append(filtered_df)\n",
        "small_df.shape"
      ],
      "metadata": {
        "colab": {
          "base_uri": "https://localhost:8080/"
        },
        "id": "ItxOdxkP-DvM",
        "outputId": "77b5a637-be1d-4471-bedf-85758bf819aa"
      },
      "id": "ItxOdxkP-DvM",
      "execution_count": null,
      "outputs": [
        {
          "output_type": "execute_result",
          "data": {
            "text/plain": [
              "(3720, 27582)"
            ]
          },
          "metadata": {},
          "execution_count": 30
        }
      ]
    },
    {
      "cell_type": "code",
      "source": [
        "filled = small_df.fillna(small_df.mean())\n",
        "filled.shape"
      ],
      "metadata": {
        "colab": {
          "base_uri": "https://localhost:8080/"
        },
        "id": "cYeEC5LJmBEY",
        "outputId": "f33cb3ac-ad89-45dd-a1c9-639234d51bb3"
      },
      "id": "cYeEC5LJmBEY",
      "execution_count": null,
      "outputs": [
        {
          "output_type": "stream",
          "name": "stderr",
          "text": [
            "/usr/local/lib/python3.7/dist-packages/ipykernel_launcher.py:1: FutureWarning: Dropping of nuisance columns in DataFrame reductions (with 'numeric_only=None') is deprecated; in a future version this will raise TypeError.  Select only valid columns before calling the reduction.\n",
            "  \"\"\"Entry point for launching an IPython kernel.\n"
          ]
        },
        {
          "output_type": "execute_result",
          "data": {
            "text/plain": [
              "(3720, 27582)"
            ]
          },
          "metadata": {},
          "execution_count": 32
        }
      ]
    },
    {
      "cell_type": "code",
      "source": [
        "print(filled.iloc[1:10,1:10])"
      ],
      "metadata": {
        "colab": {
          "base_uri": "https://localhost:8080/"
        },
        "id": "M1VqXq0QmSfT",
        "outputId": "5d8573eb-c4fc-47ee-ab95-a6906ca8d9d1"
      },
      "id": "M1VqXq0QmSfT",
      "execution_count": null,
      "outputs": [
        {
          "output_type": "stream",
          "name": "stdout",
          "text": [
            "        dataset       age gender  cg00000292  cg00002426  cg00003994  \\\n",
            "1  E-GEOD-43256 -0.536986      M    0.635999    0.249271    0.112311   \n",
            "2  E-GEOD-43256 -0.613699      F    0.629611    0.276873    0.121368   \n",
            "3  E-GEOD-43256 -0.536986      M    0.599255    0.186925    0.087592   \n",
            "4  E-GEOD-43256 -0.652055      M    0.646849    0.212785    0.094603   \n",
            "5  E-GEOD-43256 -0.594521      M    0.635511    0.255285    0.131895   \n",
            "6  E-GEOD-43256 -0.556164      M    0.541424    0.180490    0.089318   \n",
            "7  E-GEOD-43256 -0.652055      F    0.607095    0.131159    0.115193   \n",
            "8  E-GEOD-43256 -0.594521      F    0.547574    0.176905    0.088136   \n",
            "9  E-GEOD-43256 -0.556164      F    0.561583    0.314600    0.065613   \n",
            "\n",
            "   cg00005847  cg00006414  cg00007981  \n",
            "1    0.238007    0.094221    0.047817  \n",
            "2    0.183297    0.091414    0.048323  \n",
            "3    0.289278    0.078023    0.052625  \n",
            "4    0.161115    0.081073    0.056713  \n",
            "5    0.202257    0.093039    0.055076  \n",
            "6    0.316909    0.094164    0.040721  \n",
            "7    0.258923    0.074535    0.041774  \n",
            "8    0.187352    0.079309    0.064241  \n",
            "9    0.144149    0.100609    0.038367  \n"
          ]
        }
      ]
    },
    {
      "cell_type": "code",
      "source": [
        "\n",
        "filled.to_pickle('/content/drive/MyDrive/Altum_Age_Dataset/filled58concatenated_dataframes.pkl')"
      ],
      "metadata": {
        "id": "QUsLyo21-MpB"
      },
      "id": "QUsLyo21-MpB",
      "execution_count": null,
      "outputs": []
    },
    {
      "cell_type": "code",
      "source": [
        "filled = pd.read_pickle('/content/drive/MyDrive/Altum_Age_Dataset/filled58concatenated_dataframes.pkl')"
      ],
      "metadata": {
        "id": "PJsc01-MoPGJ"
      },
      "id": "PJsc01-MoPGJ",
      "execution_count": null,
      "outputs": []
    },
    {
      "cell_type": "code",
      "source": [
        "filled.shape"
      ],
      "metadata": {
        "colab": {
          "base_uri": "https://localhost:8080/"
        },
        "id": "VPV0bb_9oTqr",
        "outputId": "a464a63e-aae0-40da-d68a-379480c61451"
      },
      "id": "VPV0bb_9oTqr",
      "execution_count": null,
      "outputs": [
        {
          "output_type": "execute_result",
          "data": {
            "text/plain": [
              "(3720, 27582)"
            ]
          },
          "metadata": {},
          "execution_count": 36
        }
      ]
    },
    {
      "cell_type": "code",
      "source": [
        "ages = filled[\"age\"]"
      ],
      "metadata": {
        "id": "aKLbc3RronTY"
      },
      "id": "aKLbc3RronTY",
      "execution_count": null,
      "outputs": []
    },
    {
      "cell_type": "code",
      "source": [
        "ages[ages > 0].count()"
      ],
      "metadata": {
        "colab": {
          "base_uri": "https://localhost:8080/"
        },
        "id": "UcsdOixpoq9-",
        "outputId": "45d622f4-fa11-47f9-8e4a-bdd51ecb804d"
      },
      "id": "UcsdOixpoq9-",
      "execution_count": null,
      "outputs": [
        {
          "output_type": "execute_result",
          "data": {
            "text/plain": [
              "3030"
            ]
          },
          "metadata": {},
          "execution_count": 39
        }
      ]
    },
    {
      "cell_type": "code",
      "source": [
        "ages[ages<=0].count()"
      ],
      "metadata": {
        "colab": {
          "base_uri": "https://localhost:8080/"
        },
        "id": "P1-Y7d2Do7qm",
        "outputId": "5f7dfddb-5fd6-421c-bb34-5d4b90d1fb22"
      },
      "id": "P1-Y7d2Do7qm",
      "execution_count": null,
      "outputs": [
        {
          "output_type": "execute_result",
          "data": {
            "text/plain": [
              "690"
            ]
          },
          "metadata": {},
          "execution_count": 41
        }
      ]
    },
    {
      "cell_type": "code",
      "source": [
        "filled.iloc[1:10,1:10]"
      ],
      "metadata": {
        "colab": {
          "base_uri": "https://localhost:8080/",
          "height": 332
        },
        "id": "CkV9iamf_UaH",
        "outputId": "5289d367-c987-49bc-f66f-2a28758934e1"
      },
      "id": "CkV9iamf_UaH",
      "execution_count": null,
      "outputs": [
        {
          "output_type": "execute_result",
          "data": {
            "text/plain": [
              "   cg00000029  cg00000108  cg00000109  cg00000165  cg00000236  cg00000289  \\\n",
              "1    0.181474    0.934105    0.761884    0.231319    0.837773    0.686632   \n",
              "2    0.195400    0.909971    0.814580    0.363555    0.870637    0.608305   \n",
              "3    0.120937    0.913760    0.728934    0.149397    0.812411    0.689175   \n",
              "4    0.188715    0.928642    0.778999    0.202129    0.861120    0.700264   \n",
              "5    0.176530    0.924695    0.787795    0.204350    0.852668    0.676977   \n",
              "6    0.212309    0.909297    0.772013    0.267726    0.844834    0.710755   \n",
              "7    0.197081    0.922222    0.783349    0.246678    0.841939    0.738347   \n",
              "8    0.204960    0.923100    0.738479    0.221379    0.839748    0.649268   \n",
              "9    0.270279    0.927713    0.776280    0.268691    0.841070    0.645016   \n",
              "\n",
              "   cg00000292  cg00000321  cg00000363  \n",
              "1    0.577074    0.196243    0.143737  \n",
              "2    0.564458    0.213448    0.263882  \n",
              "3    0.609310    0.217254    0.121976  \n",
              "4    0.676087    0.207252    0.110413  \n",
              "5    0.613335    0.218695    0.152930  \n",
              "6    0.622235    0.250582    0.166488  \n",
              "7    0.619107    0.231235    0.168945  \n",
              "8    0.658288    0.268140    0.189683  \n",
              "9    0.619114    0.230220    0.257910  "
            ],
            "text/html": [
              "\n",
              "  <div id=\"df-b452178c-ee51-4865-8ae7-f1e0f21b9966\">\n",
              "    <div class=\"colab-df-container\">\n",
              "      <div>\n",
              "<style scoped>\n",
              "    .dataframe tbody tr th:only-of-type {\n",
              "        vertical-align: middle;\n",
              "    }\n",
              "\n",
              "    .dataframe tbody tr th {\n",
              "        vertical-align: top;\n",
              "    }\n",
              "\n",
              "    .dataframe thead th {\n",
              "        text-align: right;\n",
              "    }\n",
              "</style>\n",
              "<table border=\"1\" class=\"dataframe\">\n",
              "  <thead>\n",
              "    <tr style=\"text-align: right;\">\n",
              "      <th></th>\n",
              "      <th>cg00000029</th>\n",
              "      <th>cg00000108</th>\n",
              "      <th>cg00000109</th>\n",
              "      <th>cg00000165</th>\n",
              "      <th>cg00000236</th>\n",
              "      <th>cg00000289</th>\n",
              "      <th>cg00000292</th>\n",
              "      <th>cg00000321</th>\n",
              "      <th>cg00000363</th>\n",
              "    </tr>\n",
              "  </thead>\n",
              "  <tbody>\n",
              "    <tr>\n",
              "      <th>1</th>\n",
              "      <td>0.181474</td>\n",
              "      <td>0.934105</td>\n",
              "      <td>0.761884</td>\n",
              "      <td>0.231319</td>\n",
              "      <td>0.837773</td>\n",
              "      <td>0.686632</td>\n",
              "      <td>0.577074</td>\n",
              "      <td>0.196243</td>\n",
              "      <td>0.143737</td>\n",
              "    </tr>\n",
              "    <tr>\n",
              "      <th>2</th>\n",
              "      <td>0.195400</td>\n",
              "      <td>0.909971</td>\n",
              "      <td>0.814580</td>\n",
              "      <td>0.363555</td>\n",
              "      <td>0.870637</td>\n",
              "      <td>0.608305</td>\n",
              "      <td>0.564458</td>\n",
              "      <td>0.213448</td>\n",
              "      <td>0.263882</td>\n",
              "    </tr>\n",
              "    <tr>\n",
              "      <th>3</th>\n",
              "      <td>0.120937</td>\n",
              "      <td>0.913760</td>\n",
              "      <td>0.728934</td>\n",
              "      <td>0.149397</td>\n",
              "      <td>0.812411</td>\n",
              "      <td>0.689175</td>\n",
              "      <td>0.609310</td>\n",
              "      <td>0.217254</td>\n",
              "      <td>0.121976</td>\n",
              "    </tr>\n",
              "    <tr>\n",
              "      <th>4</th>\n",
              "      <td>0.188715</td>\n",
              "      <td>0.928642</td>\n",
              "      <td>0.778999</td>\n",
              "      <td>0.202129</td>\n",
              "      <td>0.861120</td>\n",
              "      <td>0.700264</td>\n",
              "      <td>0.676087</td>\n",
              "      <td>0.207252</td>\n",
              "      <td>0.110413</td>\n",
              "    </tr>\n",
              "    <tr>\n",
              "      <th>5</th>\n",
              "      <td>0.176530</td>\n",
              "      <td>0.924695</td>\n",
              "      <td>0.787795</td>\n",
              "      <td>0.204350</td>\n",
              "      <td>0.852668</td>\n",
              "      <td>0.676977</td>\n",
              "      <td>0.613335</td>\n",
              "      <td>0.218695</td>\n",
              "      <td>0.152930</td>\n",
              "    </tr>\n",
              "    <tr>\n",
              "      <th>6</th>\n",
              "      <td>0.212309</td>\n",
              "      <td>0.909297</td>\n",
              "      <td>0.772013</td>\n",
              "      <td>0.267726</td>\n",
              "      <td>0.844834</td>\n",
              "      <td>0.710755</td>\n",
              "      <td>0.622235</td>\n",
              "      <td>0.250582</td>\n",
              "      <td>0.166488</td>\n",
              "    </tr>\n",
              "    <tr>\n",
              "      <th>7</th>\n",
              "      <td>0.197081</td>\n",
              "      <td>0.922222</td>\n",
              "      <td>0.783349</td>\n",
              "      <td>0.246678</td>\n",
              "      <td>0.841939</td>\n",
              "      <td>0.738347</td>\n",
              "      <td>0.619107</td>\n",
              "      <td>0.231235</td>\n",
              "      <td>0.168945</td>\n",
              "    </tr>\n",
              "    <tr>\n",
              "      <th>8</th>\n",
              "      <td>0.204960</td>\n",
              "      <td>0.923100</td>\n",
              "      <td>0.738479</td>\n",
              "      <td>0.221379</td>\n",
              "      <td>0.839748</td>\n",
              "      <td>0.649268</td>\n",
              "      <td>0.658288</td>\n",
              "      <td>0.268140</td>\n",
              "      <td>0.189683</td>\n",
              "    </tr>\n",
              "    <tr>\n",
              "      <th>9</th>\n",
              "      <td>0.270279</td>\n",
              "      <td>0.927713</td>\n",
              "      <td>0.776280</td>\n",
              "      <td>0.268691</td>\n",
              "      <td>0.841070</td>\n",
              "      <td>0.645016</td>\n",
              "      <td>0.619114</td>\n",
              "      <td>0.230220</td>\n",
              "      <td>0.257910</td>\n",
              "    </tr>\n",
              "  </tbody>\n",
              "</table>\n",
              "</div>\n",
              "      <button class=\"colab-df-convert\" onclick=\"convertToInteractive('df-b452178c-ee51-4865-8ae7-f1e0f21b9966')\"\n",
              "              title=\"Convert this dataframe to an interactive table.\"\n",
              "              style=\"display:none;\">\n",
              "        \n",
              "  <svg xmlns=\"http://www.w3.org/2000/svg\" height=\"24px\"viewBox=\"0 0 24 24\"\n",
              "       width=\"24px\">\n",
              "    <path d=\"M0 0h24v24H0V0z\" fill=\"none\"/>\n",
              "    <path d=\"M18.56 5.44l.94 2.06.94-2.06 2.06-.94-2.06-.94-.94-2.06-.94 2.06-2.06.94zm-11 1L8.5 8.5l.94-2.06 2.06-.94-2.06-.94L8.5 2.5l-.94 2.06-2.06.94zm10 10l.94 2.06.94-2.06 2.06-.94-2.06-.94-.94-2.06-.94 2.06-2.06.94z\"/><path d=\"M17.41 7.96l-1.37-1.37c-.4-.4-.92-.59-1.43-.59-.52 0-1.04.2-1.43.59L10.3 9.45l-7.72 7.72c-.78.78-.78 2.05 0 2.83L4 21.41c.39.39.9.59 1.41.59.51 0 1.02-.2 1.41-.59l7.78-7.78 2.81-2.81c.8-.78.8-2.07 0-2.86zM5.41 20L4 18.59l7.72-7.72 1.47 1.35L5.41 20z\"/>\n",
              "  </svg>\n",
              "      </button>\n",
              "      \n",
              "  <style>\n",
              "    .colab-df-container {\n",
              "      display:flex;\n",
              "      flex-wrap:wrap;\n",
              "      gap: 12px;\n",
              "    }\n",
              "\n",
              "    .colab-df-convert {\n",
              "      background-color: #E8F0FE;\n",
              "      border: none;\n",
              "      border-radius: 50%;\n",
              "      cursor: pointer;\n",
              "      display: none;\n",
              "      fill: #1967D2;\n",
              "      height: 32px;\n",
              "      padding: 0 0 0 0;\n",
              "      width: 32px;\n",
              "    }\n",
              "\n",
              "    .colab-df-convert:hover {\n",
              "      background-color: #E2EBFA;\n",
              "      box-shadow: 0px 1px 2px rgba(60, 64, 67, 0.3), 0px 1px 3px 1px rgba(60, 64, 67, 0.15);\n",
              "      fill: #174EA6;\n",
              "    }\n",
              "\n",
              "    [theme=dark] .colab-df-convert {\n",
              "      background-color: #3B4455;\n",
              "      fill: #D2E3FC;\n",
              "    }\n",
              "\n",
              "    [theme=dark] .colab-df-convert:hover {\n",
              "      background-color: #434B5C;\n",
              "      box-shadow: 0px 1px 3px 1px rgba(0, 0, 0, 0.15);\n",
              "      filter: drop-shadow(0px 1px 2px rgba(0, 0, 0, 0.3));\n",
              "      fill: #FFFFFF;\n",
              "    }\n",
              "  </style>\n",
              "\n",
              "      <script>\n",
              "        const buttonEl =\n",
              "          document.querySelector('#df-b452178c-ee51-4865-8ae7-f1e0f21b9966 button.colab-df-convert');\n",
              "        buttonEl.style.display =\n",
              "          google.colab.kernel.accessAllowed ? 'block' : 'none';\n",
              "\n",
              "        async function convertToInteractive(key) {\n",
              "          const element = document.querySelector('#df-b452178c-ee51-4865-8ae7-f1e0f21b9966');\n",
              "          const dataTable =\n",
              "            await google.colab.kernel.invokeFunction('convertToInteractive',\n",
              "                                                     [key], {});\n",
              "          if (!dataTable) return;\n",
              "\n",
              "          const docLinkHtml = 'Like what you see? Visit the ' +\n",
              "            '<a target=\"_blank\" href=https://colab.research.google.com/notebooks/data_table.ipynb>data table notebook</a>'\n",
              "            + ' to learn more about interactive tables.';\n",
              "          element.innerHTML = '';\n",
              "          dataTable['output_type'] = 'display_data';\n",
              "          await google.colab.output.renderOutput(dataTable, element);\n",
              "          const docLink = document.createElement('div');\n",
              "          docLink.innerHTML = docLinkHtml;\n",
              "          element.appendChild(docLink);\n",
              "        }\n",
              "      </script>\n",
              "    </div>\n",
              "  </div>\n",
              "  "
            ]
          },
          "metadata": {},
          "execution_count": 25
        }
      ]
    },
    {
      "cell_type": "code",
      "source": [
        "filled = df.fillna(df.mean())\n",
        "filled.to_pickle('/content/drive/MyDrive/Altum_Age_Dataset/filled56concatenated_dataframes.pkl')"
      ],
      "metadata": {
        "colab": {
          "base_uri": "https://localhost:8080/"
        },
        "id": "xgIw22Fj7JOw",
        "outputId": "5bd290e7-d1e6-42e0-8289-7ffc4940a351"
      },
      "id": "xgIw22Fj7JOw",
      "execution_count": null,
      "outputs": [
        {
          "output_type": "stream",
          "name": "stderr",
          "text": [
            "/usr/local/lib/python3.7/dist-packages/ipykernel_launcher.py:1: FutureWarning: Dropping of nuisance columns in DataFrame reductions (with 'numeric_only=None') is deprecated; in a future version this will raise TypeError.  Select only valid columns before calling the reduction.\n",
            "  \"\"\"Entry point for launching an IPython kernel.\n"
          ]
        }
      ]
    }
  ],
  "metadata": {
    "kernelspec": {
      "display_name": "Python 3 (ipykernel)",
      "language": "python",
      "name": "python3"
    },
    "language_info": {
      "codemirror_mode": {
        "name": "ipython",
        "version": 3
      },
      "file_extension": ".py",
      "mimetype": "text/x-python",
      "name": "python",
      "nbconvert_exporter": "python",
      "pygments_lexer": "ipython3",
      "version": "3.9.7"
    },
    "colab": {
      "provenance": [],
      "collapsed_sections": [
        "785dfafa-b28e-46b7-92af-0d7f50c03379",
        "33cb5880-c3ea-4cc2-b3b3-b2a26cf7da4e",
        "e1b7538e-2bf3-437c-b4ff-749f6ab8b089",
        "3b0e7470-4867-418f-bc31-fa1fb5d8cbb0",
        "bbcb90e0-b6fe-4df7-a432-0aad37202687",
        "f8adcac1-720c-410b-9c24-4438a7ee5fbb",
        "52c26758-37fd-4f7d-be34-635ecb736a98",
        "f9a254fb-6a8d-4972-82e4-5222d6da5059",
        "d92a1c96-1797-4e44-b31c-da218f3306d3",
        "44e5694e-c292-4dee-9aee-925f229ece02",
        "e384ee84-e937-4958-920e-a23c8ed9553a",
        "ef9b5820-2db9-44da-9ee5-61a532196001",
        "a384274c-f87a-4278-b0c2-6baf0d3dd8d5",
        "561d1ce8-4a53-44bf-be00-941c9a8fb211",
        "e9ea16ea-7fb1-4cdf-892b-9147b7407000",
        "24c3af9a-19a0-46a3-a4c0-f1d5a035ec75",
        "26251069-d4aa-45fd-8ee8-df605353babf",
        "1e52e2f3-a23b-4f70-84dc-aa97cbfe47a2",
        "a0ed3bc5-8162-4577-ade1-4193e80fd3d7",
        "9c9c6882-fd13-41dd-9205-07fa6033863c",
        "fb2a249d-4676-4ab3-8b55-30a888876039"
      ]
    },
    "gpuClass": "standard"
  },
  "nbformat": 4,
  "nbformat_minor": 5
}